{
 "cells": [
  {
   "cell_type": "code",
   "execution_count": 8,
   "metadata": {},
   "outputs": [],
   "source": [
    "import pandas as pd\n",
    "import numpy as np\n",
    "from sklearn.feature_extraction.text import CountVectorizer\n",
    "from sklearn.feature_extraction.text import TfidfTransformer\n",
    "\n",
    "##Reading input file\n",
    "file_name = 'dataset/health_tweets_labeled.csv'\n",
    "df = pd.read_csv(file_name,encoding='latin1')\n",
    "df_sample = pd.DataFrame(df)\n",
    "df.head()\n",
    "data = np.array(df.iloc[:,0])\n",
    "target = np.array(df.iloc[:,1])\n",
    "\n",
    "\n",
    "##Making Term-Document Incidence Matrix\n",
    "vectorizer = CountVectorizer()\n",
    "x = vectorizer.fit_transform(df['tweet'].values.astype('U'))\n",
    "arr=x.toarray()\n",
    "vectorizer.vocabulary_.get('document')\n",
    "\n",
    "##tf-idf\n",
    "transformer = TfidfTransformer(smooth_idf=False)\n",
    "tfidf = transformer.fit_transform(arr)"
   ]
  },
  {
   "cell_type": "code",
   "execution_count": 12,
   "metadata": {
    "scrolled": true
   },
   "outputs": [
    {
     "name": "stdout",
     "output_type": "stream",
     "text": [
      "Score = 0.49465213405317304\n",
      "Score = 0.49465213405317304\n"
     ]
    }
   ],
   "source": [
    "########Naiev Bayes#######\n",
    "from sklearn.naive_bayes import GaussianNB\n",
    "n=50000\n",
    "\n",
    "clf = GaussianNB()\n",
    "clf.fit(arr[:n], target[:n])\n",
    "print(\"Score = \" + str(clf.score(arr[n:],target[n:])))\n",
    "clf_pf = GaussianNB()\n",
    "clf_pf.partial_fit(arr[:n], target[:n], np.unique(target))\n",
    "print(\"Score = \" + str(clf_pf.score(arr[n:],target[n:])))"
   ]
  },
  {
   "cell_type": "code",
   "execution_count": 13,
   "metadata": {},
   "outputs": [
    {
     "name": "stdout",
     "output_type": "stream",
     "text": [
      "Score = 0.6320668228583071\n",
      "Cross Val Scores = [0.50941476 0.60814249 0.63830871 0.54355578 0.57572667]\n"
     ]
    }
   ],
   "source": [
    "########Rocchio#######\n",
    "from sklearn.neighbors.nearest_centroid import NearestCentroid\n",
    "from sklearn.model_selection import cross_val_score\n",
    "import numpy as np\n",
    "\n",
    "n=50000\n",
    "clf = NearestCentroid()\n",
    "clf.fit(arr[:n], target[:n])\n",
    "NearestCentroid(metric='euclidean', shrink_threshold=None)\n",
    "print(\"Score = \" + str(clf.score(arr[n:],target[n:])))\n",
    "scores = cross_val_score(clf, arr[n:], target[n:], cv=5)\n",
    "print(\"Cross Val Scores = \" + str(scores))"
   ]
  },
  {
   "cell_type": "code",
   "execution_count": null,
   "metadata": {},
   "outputs": [],
   "source": [
    "######## KNN #######\n",
    "from sklearn.neighbors import KNeighborsClassifier\n",
    "n = 500\n",
    "neighbors = KNeighborsClassifier(n_neighbors = 3)\n",
    "neighbors.fit(arr[:n], target[:n]) \n",
    "\n",
    "print(\"Scores = \" + str(neighbors.score(arr[n:], target[n:])))"
   ]
  },
  {
   "cell_type": "code",
   "execution_count": null,
   "metadata": {},
   "outputs": [],
   "source": []
  }
 ],
 "metadata": {
  "kernelspec": {
   "display_name": "Python 3",
   "language": "python",
   "name": "python3"
  },
  "language_info": {
   "codemirror_mode": {
    "name": "ipython",
    "version": 3
   },
   "file_extension": ".py",
   "mimetype": "text/x-python",
   "name": "python",
   "nbconvert_exporter": "python",
   "pygments_lexer": "ipython3",
   "version": "3.6.4"
  }
 },
 "nbformat": 4,
 "nbformat_minor": 2
}
